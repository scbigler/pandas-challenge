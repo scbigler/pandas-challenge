{
 "cells": [
  {
   "cell_type": "markdown",
   "metadata": {},
   "source": [
    "### Note\n",
    "* Instructions have been included for each segment. You do not have to follow them exactly, but they are included to help you think through the steps."
   ]
  },
  {
   "cell_type": "code",
   "execution_count": 2,
   "metadata": {},
   "outputs": [
    {
     "data": {
      "text/html": [
       "<div>\n",
       "<style scoped>\n",
       "    .dataframe tbody tr th:only-of-type {\n",
       "        vertical-align: middle;\n",
       "    }\n",
       "\n",
       "    .dataframe tbody tr th {\n",
       "        vertical-align: top;\n",
       "    }\n",
       "\n",
       "    .dataframe thead th {\n",
       "        text-align: right;\n",
       "    }\n",
       "</style>\n",
       "<table border=\"1\" class=\"dataframe\">\n",
       "  <thead>\n",
       "    <tr style=\"text-align: right;\">\n",
       "      <th></th>\n",
       "      <th>Student ID</th>\n",
       "      <th>student_name</th>\n",
       "      <th>gender</th>\n",
       "      <th>grade</th>\n",
       "      <th>school_name</th>\n",
       "      <th>reading_score</th>\n",
       "      <th>math_score</th>\n",
       "      <th>School ID</th>\n",
       "      <th>type</th>\n",
       "      <th>size</th>\n",
       "      <th>budget</th>\n",
       "    </tr>\n",
       "  </thead>\n",
       "  <tbody>\n",
       "    <tr>\n",
       "      <th>0</th>\n",
       "      <td>0</td>\n",
       "      <td>Paul Bradley</td>\n",
       "      <td>M</td>\n",
       "      <td>9th</td>\n",
       "      <td>Huang High School</td>\n",
       "      <td>66</td>\n",
       "      <td>79</td>\n",
       "      <td>0</td>\n",
       "      <td>District</td>\n",
       "      <td>2917</td>\n",
       "      <td>1910635</td>\n",
       "    </tr>\n",
       "    <tr>\n",
       "      <th>1</th>\n",
       "      <td>1</td>\n",
       "      <td>Victor Smith</td>\n",
       "      <td>M</td>\n",
       "      <td>12th</td>\n",
       "      <td>Huang High School</td>\n",
       "      <td>94</td>\n",
       "      <td>61</td>\n",
       "      <td>0</td>\n",
       "      <td>District</td>\n",
       "      <td>2917</td>\n",
       "      <td>1910635</td>\n",
       "    </tr>\n",
       "    <tr>\n",
       "      <th>2</th>\n",
       "      <td>2</td>\n",
       "      <td>Kevin Rodriguez</td>\n",
       "      <td>M</td>\n",
       "      <td>12th</td>\n",
       "      <td>Huang High School</td>\n",
       "      <td>90</td>\n",
       "      <td>60</td>\n",
       "      <td>0</td>\n",
       "      <td>District</td>\n",
       "      <td>2917</td>\n",
       "      <td>1910635</td>\n",
       "    </tr>\n",
       "    <tr>\n",
       "      <th>3</th>\n",
       "      <td>3</td>\n",
       "      <td>Dr. Richard Scott</td>\n",
       "      <td>M</td>\n",
       "      <td>12th</td>\n",
       "      <td>Huang High School</td>\n",
       "      <td>67</td>\n",
       "      <td>58</td>\n",
       "      <td>0</td>\n",
       "      <td>District</td>\n",
       "      <td>2917</td>\n",
       "      <td>1910635</td>\n",
       "    </tr>\n",
       "    <tr>\n",
       "      <th>4</th>\n",
       "      <td>4</td>\n",
       "      <td>Bonnie Ray</td>\n",
       "      <td>F</td>\n",
       "      <td>9th</td>\n",
       "      <td>Huang High School</td>\n",
       "      <td>97</td>\n",
       "      <td>84</td>\n",
       "      <td>0</td>\n",
       "      <td>District</td>\n",
       "      <td>2917</td>\n",
       "      <td>1910635</td>\n",
       "    </tr>\n",
       "  </tbody>\n",
       "</table>\n",
       "</div>"
      ],
      "text/plain": [
       "   Student ID       student_name gender grade        school_name  \\\n",
       "0           0       Paul Bradley      M   9th  Huang High School   \n",
       "1           1       Victor Smith      M  12th  Huang High School   \n",
       "2           2    Kevin Rodriguez      M  12th  Huang High School   \n",
       "3           3  Dr. Richard Scott      M  12th  Huang High School   \n",
       "4           4         Bonnie Ray      F   9th  Huang High School   \n",
       "\n",
       "   reading_score  math_score  School ID      type  size   budget  \n",
       "0             66          79          0  District  2917  1910635  \n",
       "1             94          61          0  District  2917  1910635  \n",
       "2             90          60          0  District  2917  1910635  \n",
       "3             67          58          0  District  2917  1910635  \n",
       "4             97          84          0  District  2917  1910635  "
      ]
     },
     "execution_count": 2,
     "metadata": {},
     "output_type": "execute_result"
    }
   ],
   "source": [
    "# Dependencies and Setup\n",
    "import pandas as pd\n",
    "\n",
    "# File to Load (Remember to Change These)\n",
    "school_data_to_load = \"Resources/schools_complete.csv\"\n",
    "student_data_to_load = \"Resources/students_complete.csv\"\n",
    "\n",
    "# Read School and Student Data File and store into Pandas DataFrames\n",
    "school_data = pd.read_csv(school_data_to_load)\n",
    "student_data = pd.read_csv(student_data_to_load)\n",
    "\n",
    "# Combine the data into a single dataset.  \n",
    "school_data_complete = pd.merge(student_data, school_data, how=\"left\", on=[\"school_name\", \"school_name\"])\n",
    "\n",
    "school_data_complete.head()\n"
   ]
  },
  {
   "cell_type": "markdown",
   "metadata": {},
   "source": [
    "## District Summary\n",
    "\n",
    "* Calculate the total number of schools\n",
    "\n",
    "* Calculate the total number of students\n",
    "\n",
    "* Calculate the total budget\n",
    "\n",
    "* Calculate the average math score \n",
    "\n",
    "* Calculate the average reading score\n",
    "\n",
    "* Calculate the percentage of students with a passing math score (70 or greater)\n",
    "\n",
    "* Calculate the percentage of students with a passing reading score (70 or greater)\n",
    "\n",
    "* Calculate the percentage of students who passed math **and** reading (% Overall Passing)\n",
    "\n",
    "* Create a dataframe to hold the above results\n",
    "\n",
    "* Optional: give the displayed data cleaner formatting"
   ]
  },
  {
   "cell_type": "code",
   "execution_count": 4,
   "metadata": {},
   "outputs": [],
   "source": [
    "#totals can be counted in multiple ways.  for school names you only need unique school names.  for students you need to count the unique students.\n",
    "#for students there is one row for each student.  for budget you need to sum the budget.  \n",
    "# activities to refer to are all on Day 1 activity 5 and 6.\n",
    "#percentage pass rate syntax:\n",
    "#############variable=df[(df['column_name'] >= value).count()/df.count()\n",
    "\n",
    "\n",
    "# The summary dataframe would be setup like the on in Day 1 activity 11."
   ]
  },
  {
   "cell_type": "code",
   "execution_count": 5,
   "metadata": {},
   "outputs": [
    {
     "name": "stdout",
     "output_type": "stream",
     "text": [
      "<class 'int'>\n",
      "39170\n",
      "24649428\n",
      "78.98537145774827\n",
      "81.87784018381414\n",
      "74.98\n",
      "85.81\n"
     ]
    }
   ],
   "source": [
    "# count of unique schools\n",
    "schools_unique = school_data_complete[\"school_name\"].nunique()\n",
    "print(type(schools_unique))\n",
    "\n",
    "# count of total students\n",
    "student_count = school_data_complete[\"Student ID\"].nunique()\n",
    "print(student_count)\n",
    "\n",
    "budget = school_data[\"budget\"].sum()\n",
    "print(budget)\n",
    "\n",
    "avg_math = school_data_complete[\"math_score\"].mean()\n",
    "print(avg_math)\n",
    "\n",
    "avg_reading = school_data_complete[\"reading_score\"].mean()\n",
    "print(avg_reading)\n",
    "\n",
    "\n",
    "# Percent passed - math\n",
    "count_variable=student_data[(student_data['math_score'] >= 70)].count()['student_name']\n",
    "percentage_passed_math=count_variable/student_data.count()['student_name'] \n",
    "print(round(percentage_passed_math*100,2)) \n",
    "\n",
    "# Percent passed - reading\n",
    "count_variable=student_data[(student_data['reading_score'] >= 70)].count()['student_name']\n",
    "percentage_passed_reading=count_variable/student_data.count()['student_name'] \n",
    "print(round(percentage_passed_reading*100,2))\n"
   ]
  },
  {
   "cell_type": "code",
   "execution_count": 7,
   "metadata": {},
   "outputs": [
    {
     "name": "stdout",
     "output_type": "stream",
     "text": [
      "39170\n",
      "24649428\n",
      "78.98537145774827\n",
      "81.87784018381414\n",
      "74.98\n",
      "85.81\n",
      "65.17\n"
     ]
    }
   ],
   "source": [
    "\n",
    "\n",
    "schools_unique = school_data_complete[\"school_name\"].nunique()\n",
    "schools_unique\n",
    "\n",
    "# count of total students\n",
    "student_count = school_data_complete[\"Student ID\"].nunique()\n",
    "print(student_count)\n",
    "\n",
    "budget = school_data[\"budget\"].sum()\n",
    "print(budget)\n",
    "\n",
    "avg_math = school_data_complete[\"math_score\"].mean()\n",
    "print(avg_math)\n",
    "\n",
    "avg_reading = school_data_complete[\"reading_score\"].mean()\n",
    "print(avg_reading)\n",
    "\n",
    "\n",
    "# Percent passed - math\n",
    "count_variable=student_data[(student_data['math_score'] >= 70)].count()['student_name']\n",
    "percentage_passed_math=count_variable/student_data.count()['student_name'] \n",
    "print(round(percentage_passed_math*100,2)) \n",
    "\n",
    "# Percent passed - reading\n",
    "count_variable=student_data[(student_data['reading_score'] >= 70)].count()['student_name']\n",
    "percentage_passed_reading=count_variable/student_data.count()['student_name'] \n",
    "print(round(percentage_passed_reading*100,2))\n",
    "\n",
    "# Percent passed - overall\n",
    "# passed_both = ((student_data[\"math_score\"] >=70) == True & (student_data[\"reading_score\"] >= 70) == True).count()\n",
    "math_reading_passed = ((student_data['math_score'] >= 70) & (student_data['reading_score'] >= 70))\n",
    "percent_passed_overall = round((sum(math_reading_passed)/student_count*100),2)\n",
    "print(percent_passed_overall)\n",
    "\n"
   ]
  },
  {
   "cell_type": "code",
   "execution_count": 8,
   "metadata": {},
   "outputs": [
    {
     "data": {
      "text/html": [
       "<div>\n",
       "<style scoped>\n",
       "    .dataframe tbody tr th:only-of-type {\n",
       "        vertical-align: middle;\n",
       "    }\n",
       "\n",
       "    .dataframe tbody tr th {\n",
       "        vertical-align: top;\n",
       "    }\n",
       "\n",
       "    .dataframe thead th {\n",
       "        text-align: right;\n",
       "    }\n",
       "</style>\n",
       "<table border=\"1\" class=\"dataframe\">\n",
       "  <thead>\n",
       "    <tr style=\"text-align: right;\">\n",
       "      <th></th>\n",
       "      <th>Total Schools</th>\n",
       "      <th>Total Students</th>\n",
       "      <th>Total Budget</th>\n",
       "      <th>Average Math Score</th>\n",
       "      <th>Average Reading Score</th>\n",
       "      <th>% Passing Math</th>\n",
       "      <th>% Passing Reading</th>\n",
       "      <th>% Overall Passing</th>\n",
       "    </tr>\n",
       "  </thead>\n",
       "  <tbody>\n",
       "    <tr>\n",
       "      <th>0</th>\n",
       "      <td>15</td>\n",
       "      <td>39170</td>\n",
       "      <td>24649428</td>\n",
       "      <td>78.985371</td>\n",
       "      <td>81.87784</td>\n",
       "      <td>0.749809</td>\n",
       "      <td>0.858055</td>\n",
       "      <td>65.17</td>\n",
       "    </tr>\n",
       "  </tbody>\n",
       "</table>\n",
       "</div>"
      ],
      "text/plain": [
       "   Total Schools  Total Students  Total Budget  Average Math Score  \\\n",
       "0             15           39170      24649428           78.985371   \n",
       "\n",
       "   Average Reading Score  % Passing Math  % Passing Reading  % Overall Passing  \n",
       "0               81.87784        0.749809           0.858055              65.17  "
      ]
     },
     "execution_count": 8,
     "metadata": {},
     "output_type": "execute_result"
    }
   ],
   "source": [
    "summary_df = pd.DataFrame({\"Total Schools\": [schools_unique],\n",
    "                              \"Total Students\": [student_count],\n",
    "                              \"Total Budget\": [budget],\n",
    "                              \"Average Math Score\": [avg_math],\n",
    "                              \"Average Reading Score\": [avg_reading],\n",
    "                              \"% Passing Math\": [percentage_passed_math],\n",
    "                              \"% Passing Reading\": [percentage_passed_reading],\n",
    "                              \"% Overall Passing\": [percent_passed_overall]})\n",
    "summary_df"
   ]
  },
  {
   "cell_type": "markdown",
   "metadata": {},
   "source": [
    "## School Summary"
   ]
  },
  {
   "cell_type": "markdown",
   "metadata": {},
   "source": [
    "* Create an overview table that summarizes key metrics about each school, including:\n",
    "  * School Name\n",
    "  * School Type\n",
    "  * Total Students\n",
    "  * Total School Budget\n",
    "  * Per Student Budget\n",
    "  * Average Math Score\n",
    "  * Average Reading Score\n",
    "  * % Passing Math\n",
    "  * % Passing Reading\n",
    "  * % Overall Passing (The percentage of students that passed math **and** reading.)\n",
    "  \n",
    "* Create a dataframe to hold the above results"
   ]
  },
  {
   "cell_type": "code",
   "execution_count": 52,
   "metadata": {},
   "outputs": [
    {
     "name": "stdout",
     "output_type": "stream",
     "text": [
      "school_name\n",
      "Bailey High School      3124928\n",
      "Cabrera High School     1081356\n",
      "Figueroa High School    1884411\n",
      "Ford High School        1763916\n",
      "Griffin High School      917500\n",
      "Name: budget, dtype: int64\n",
      "school_name\n",
      "Bailey High School      4976\n",
      "Cabrera High School     1858\n",
      "Figueroa High School    2949\n",
      "Ford High School        2739\n",
      "Griffin High School     1468\n",
      "Name: student_name, dtype: int64\n",
      "school_name\n",
      "Bailey High School       77.048432\n",
      "Cabrera High School      83.061895\n",
      "Figueroa High School     76.711767\n",
      "Ford High School         77.102592\n",
      "Griffin High School      83.351499\n",
      "Hernandez High School    77.289752\n",
      "Holden High School       83.803279\n",
      "Huang High School        76.629414\n",
      "Johnson High School      77.072464\n",
      "Pena High School         83.839917\n",
      "Rodriguez High School    76.842711\n",
      "Shelton High School      83.359455\n",
      "Thomas High School       83.418349\n",
      "Wilson High School       83.274201\n",
      "Wright High School       83.682222\n",
      "Name: math_score, dtype: float64\n"
     ]
    }
   ],
   "source": [
    "# school_sum1_df = school_data_complete[\"\"]\n",
    "\n",
    "\n",
    "# df = school_data_complete[[\"school_name\", \"budget\"]]\n",
    "school_sum1_df = df.set_index(\"school_name\")\n",
    "school_budget_df = school_data.groupby([\"school_name\"])[\"budget\"].sum()\n",
    "print(school_budget_df.head())\n",
    "\n",
    "school_total_students_df = student_data.groupby([\"school_name\"])[\"student_name\"].count()\n",
    "print(school_total_students_df.head())\n",
    "\n",
    "avg_math_school = school_data_complete.groupby([\"school_name\"])[\"math_score\"].mean()\n",
    "print(avg_math_school.head())\n",
    "\n",
    "# avg_reading = school_data_complete[\"reading_score\"].mean()\n",
    "# print(avg_reading)\n",
    "\n",
    "# per_student_df = school_budget_df[\"budget\"]/school_total_students_df[\"student_name\"].count()\n",
    "\n",
    "\n",
    "\n",
    "\n",
    "\n"
   ]
  },
  {
   "cell_type": "code",
   "execution_count": null,
   "metadata": {},
   "outputs": [],
   "source": [
    "#it will be helpful to set_index to ([\"school_name\"])[\"type\"]\n",
    "#to get these calculations you are going to use a number of methods\n",
    "# value_counts (day 2 activity 3), groupby (day 2 activity 6&7), mean()(day 1 activity 5&6)\n",
    "# you will also have to do math on columns; for example:\n",
    "###################variable=df['column_name']*df['column_name']###############\n",
    "\n",
    "# to filter the data to get passing students you will need to use loc to filter (day 2 activity 1)\n",
    "\n",
    "\n",
    "# the summary dataframe would be setup like the on in Day 1 activity 11."
   ]
  },
  {
   "cell_type": "markdown",
   "metadata": {},
   "source": [
    "## Top Performing Schools (By % Overall Passing)"
   ]
  },
  {
   "cell_type": "markdown",
   "metadata": {},
   "source": [
    "* Sort and display the top five performing schools by % overall passing."
   ]
  },
  {
   "cell_type": "code",
   "execution_count": null,
   "metadata": {
    "scrolled": true
   },
   "outputs": [],
   "source": [
    "# This is just a sort in the right direction. (Day 2 activity 8)\n"
   ]
  },
  {
   "cell_type": "code",
   "execution_count": null,
   "metadata": {},
   "outputs": [],
   "source": [
    "\n",
    "top_by_overall_df = school_data_complete.sort_values(\"fdaf\")\n",
    "top_by_overall_df.head()"
   ]
  },
  {
   "cell_type": "markdown",
   "metadata": {},
   "source": [
    "## Bottom Performing Schools (By % Overall Passing)"
   ]
  },
  {
   "cell_type": "markdown",
   "metadata": {},
   "source": [
    "* Sort and display the five worst-performing schools by % overall passing."
   ]
  },
  {
   "cell_type": "code",
   "execution_count": null,
   "metadata": {},
   "outputs": [],
   "source": [
    "#same as previous cell"
   ]
  },
  {
   "cell_type": "markdown",
   "metadata": {
    "collapsed": true
   },
   "source": [
    "## Math Scores by Grade"
   ]
  },
  {
   "cell_type": "markdown",
   "metadata": {},
   "source": [
    "* Create a table that lists the average Reading Score for students of each grade level (9th, 10th, 11th, 12th) at each school.\n",
    "\n",
    "  * Create a pandas series for each grade. Hint: use a conditional statement.\n",
    "  \n",
    "  * Group each series by school\n",
    "  \n",
    "  * Combine the series into a dataframe\n",
    "  \n",
    "  * Optional: give the displayed data cleaner formatting"
   ]
  },
  {
   "cell_type": "code",
   "execution_count": null,
   "metadata": {},
   "outputs": [],
   "source": [
    "# use loc to filter by grade\n",
    "# get the average MATH score for each grade level\n",
    "# create summary dataframe, simalar to above.\n"
   ]
  },
  {
   "cell_type": "markdown",
   "metadata": {},
   "source": [
    "## Reading Score by Grade "
   ]
  },
  {
   "cell_type": "markdown",
   "metadata": {},
   "source": [
    "* Perform the same operations as above for reading scores"
   ]
  },
  {
   "cell_type": "code",
   "execution_count": null,
   "metadata": {},
   "outputs": [],
   "source": [
    "# use loc to filter by grade\n",
    "# get the average READING score for each grade level\n",
    "# create summary dataframe, similar to above."
   ]
  },
  {
   "cell_type": "markdown",
   "metadata": {},
   "source": [
    "## Scores by School Spending"
   ]
  },
  {
   "cell_type": "markdown",
   "metadata": {},
   "source": [
    "* Create a table that breaks down school performances based on average Spending Ranges (Per Student). Use 4 reasonable bins to group school spending. Include in the table each of the following:\n",
    "  * Average Math Score\n",
    "  * Average Reading Score\n",
    "  * % Passing Math\n",
    "  * % Passing Reading\n",
    "  * Overall Passing Rate (Average of the above two)"
   ]
  },
  {
   "cell_type": "code",
   "execution_count": null,
   "metadata": {},
   "outputs": [],
   "source": [
    "#create bins and labels (use the example for your labels) (day 3 activity 3)\n",
    "\n",
    "#calculate averages grouping by your bin column (day 3 activity 4)\n",
    "#############variable=df.groupby(['bin_column']).mean()['specific_column']###############\n",
    "\n",
    "#create summary dataframe as above."
   ]
  },
  {
   "cell_type": "markdown",
   "metadata": {},
   "source": [
    "## Scores by School Size"
   ]
  },
  {
   "cell_type": "markdown",
   "metadata": {},
   "source": [
    "* Perform the same operations as above, based on school size."
   ]
  },
  {
   "cell_type": "code",
   "execution_count": null,
   "metadata": {
    "scrolled": true
   },
   "outputs": [],
   "source": [
    "#create bins and labels (use the example for your labels) (day 3 activity 3)\n",
    "\n",
    "#calculate averages grouping by your bin column (day 3 activity 4)\n",
    "#############variable=df.groupby(['bin_column']).mean()['specific_column']###############\n",
    "\n",
    "#create summary dataframe as above."
   ]
  },
  {
   "cell_type": "markdown",
   "metadata": {},
   "source": [
    "## Scores by School Type"
   ]
  },
  {
   "cell_type": "markdown",
   "metadata": {},
   "source": [
    "* Perform the same operations as above, based on school type"
   ]
  },
  {
   "cell_type": "code",
   "execution_count": null,
   "metadata": {},
   "outputs": [],
   "source": [
    "#create bins and labels (use the example for your labels) (day 3 activity 3)\n",
    "\n",
    "#calculate averages grouping by your bin column (day 3 activity 4)\n",
    "#############variable=df.groupby(['bin_column']).mean()['specific_column']###############\n",
    "\n",
    "#create summary dataframe as above."
   ]
  },
  {
   "cell_type": "code",
   "execution_count": null,
   "metadata": {},
   "outputs": [],
   "source": []
  }
 ],
 "metadata": {
  "anaconda-cloud": {},
  "kernel_info": {
   "name": "python3"
  },
  "kernelspec": {
   "display_name": "Python 3.9.12 ('base')",
   "language": "python",
   "name": "python3"
  },
  "language_info": {
   "codemirror_mode": {
    "name": "ipython",
    "version": 3
   },
   "file_extension": ".py",
   "mimetype": "text/x-python",
   "name": "python",
   "nbconvert_exporter": "python",
   "pygments_lexer": "ipython3",
   "version": "3.9.12"
  },
  "latex_envs": {
   "LaTeX_envs_menu_present": true,
   "autoclose": false,
   "autocomplete": true,
   "bibliofile": "biblio.bib",
   "cite_by": "apalike",
   "current_citInitial": 1,
   "eqLabelWithNumbers": true,
   "eqNumInitial": 1,
   "hotkeys": {
    "equation": "Ctrl-E",
    "itemize": "Ctrl-I"
   },
   "labels_anchors": false,
   "latex_user_defs": false,
   "report_style_numbering": false,
   "user_envs_cfg": false
  },
  "nteract": {
   "version": "0.8.4"
  },
  "vscode": {
   "interpreter": {
    "hash": "836d2a737f345f770091c2a0c0b83549937904d5f6f9008ba9ac2389b7758057"
   }
  }
 },
 "nbformat": 4,
 "nbformat_minor": 1
}
